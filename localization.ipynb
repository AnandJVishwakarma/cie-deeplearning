{
 "cells": [
  {
   "cell_type": "code",
   "execution_count": 1,
   "id": "7f66d18b",
   "metadata": {},
   "outputs": [
    {
     "data": {
      "image/png": "[encoded data removed]",
      "text/plain": [
       "<Figure size 432x288 with 1 Axes>"
      ]
     },
     "metadata": {
      "needs_background": "light"
     },
     "output_type": "display_data"
    }
   ],
   "source": [
    "import cv2\n",
    "import numpy as np\n",
    "\n",
    "# Load the image\n",
    "img = cv2.imread('30(1).jpg')\n",
    "\n",
    "# Convert the image to grayscale\n",
    "gray = cv2.cvtColor(img, cv2.COLOR_BGR2GRAY)\n",
    "\n",
    "# Calculate the histogram\n",
    "hist = cv2.calcHist([gray], [0], None, [256], [0, 256])\n",
    "\n",
    "import matplotlib.pyplot as plt\n",
    "\n",
    "# Display the histogram\n",
    "plt.hist(gray.ravel(), 256, [0, 256])\n",
    "##plt.show()\n",
    "\n",
    "\n",
    "# Threshold the grayscale image\n",
    "##ret, thresh = cv2.threshold(gray, threshold_value, 255, cv2.THRESH_BINARY)\n",
    "\n",
    "# Apply thresholding to create a binary image\n",
    "_, thresh = cv2.threshold(gray, 127, 255, cv2.THRESH_BINARY)\n",
    "\n",
    "\n",
    "# Find contours in the binary image\n",
    "contours, hierarchy = cv2.findContours(thresh, cv2.RETR_TREE, cv2.CHAIN_APPROX_SIMPLE)\n",
    "# print(contours[0])"
   ]
  },
  {
   "cell_type": "code",
   "execution_count": 2,
   "id": "226f9475",
   "metadata": {},
   "outputs": [
    {
     "data": {
      "text/plain": [
       "-1"
      ]
     },
     "execution_count": 2,
     "metadata": {},
     "output_type": "execute_result"
    }
   ],
   "source": [
    "# import cv2\n",
    "# import numpy as np\n",
    "\n",
    "# # Load the image\n",
    "# img = cv2.imread('35(1).jpg')\n",
    "\n",
    "# # Convert the image to grayscale\n",
    "# gray = cv2.cvtColor(img, cv2.COLOR_BGR2GRAY)\n",
    "\n",
    "# # Calculate the histogram\n",
    "# hist = cv2.calcHist([gray], [0], None, [256], [0, 256])\n",
    "\n",
    "# import matplotlib.pyplot as plt\n",
    "\n",
    "# # Display the histogram\n",
    "# plt.hist(gray.ravel(), 256, [0, 256])\n",
    "# ##plt.show()\n",
    "\n",
    "\n",
    "# # Threshold the grayscale image\n",
    "# ##ret, thresh = cv2.threshold(gray, threshold_value, 255, cv2.THRESH_BINARY)\n",
    "\n",
    "# # Apply thresholding to create a binary image\n",
    "# _, thresh = cv2.threshold(gray, 127, 255, cv2.THRESH_BINARY)\n",
    "\n",
    "\n",
    "# # Find contours in the binary image\n",
    "# contours, hierarchy = cv2.findContours(thresh, cv2.RETR_TREE, cv2.CHAIN_APPROX_SIMPLE)\n",
    "\n",
    "# Set the minimum width and height for the bounding rectangles\n",
    "min_width, min_height = 50, 50\n",
    "\n",
    "# Iterate through the contours and draw a bounding rectangle around each one\n",
    "for contour in contours:\n",
    "    x, y, w, h = cv2.boundingRect(contours[0])\n",
    "    if w > min_width and h > min_height:\n",
    "        # Draw the bounding rectangle on the image\n",
    "        cv2.rectangle(gray, (x, y), ((x+ w), y + h), (255,255,255), 2)\n",
    "        break\n",
    "\n",
    "# Add text to the bounding rectangle\n",
    "text = 'CYLONE DETECTED'\n",
    "font = cv2.FONT_HERSHEY_SIMPLEX\n",
    "font_scale = 1\n",
    "thickness = 2\n",
    "text_size, _ = cv2.getTextSize(text, font, font_scale, thickness)\n",
    "text_x = x + int((w - text_size[0]) / 2)\n",
    "text_y = y - int(text_size[1] * 1.5)\n",
    "\n",
    "color = 2**16-1  # 65535 is white color for 16 bis image\n",
    "\n",
    "# Using cv2.putText() method\n",
    "image = cv2.putText(gray,text,(text_x, text_y), cv2.FONT_HERSHEY_SIMPLEX,font_scale , color, 1, cv2.LINE_AA)\n",
    "\n",
    "\n",
    "# Show the image with the bounding rectangles\n",
    "cv2.imshow('Image with Bounding Rectangles', gray)\n",
    "cv2.waitKey(0)\n"
   ]
  },
  {
   "cell_type": "code",
   "execution_count": null,
   "id": "d788f37d",
   "metadata": {},
   "outputs": [],
   "source": []
  },
  {
   "cell_type": "code",
   "execution_count": null,
   "id": "3aaedbde",
   "metadata": {},
   "outputs": [],
   "source": []
  }
 ],
 "metadata": {
  "kernelspec": {
   "display_name": "Python 3 (ipykernel)",
   "language": "python",
   "name": "python3"
  },
  "language_info": {
   "codemirror_mode": {
    "name": "ipython",
    "version": 3
   },
   "file_extension": ".py",
   "mimetype": "text/x-python",
   "name": "python",
   "nbconvert_exporter": "python",
   "pygments_lexer": "ipython3",
   "version": "3.10.8"
  }
 },
 "nbformat": 4,
 "nbformat_minor": 5
}
